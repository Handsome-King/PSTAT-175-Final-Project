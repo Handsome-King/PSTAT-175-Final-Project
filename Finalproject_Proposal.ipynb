{
 "cells": [
  {
   "cell_type": "markdown",
   "metadata": {},
   "source": [
    "## PSTAT 175 Project uis dataset."
   ]
  },
  {
   "cell_type": "markdown",
   "metadata": {},
   "source": [
    "## 1) A description of your data and what scientific questions you are trying to answer in your analysis."
   ]
  },
  {
   "cell_type": "markdown",
   "metadata": {},
   "source": [
    "#### 1.1 This uis dataset recorded the treatment status of the patient who used drugs, measure how long will the patient return to drug use.\n",
    "#### 1.2 The covariates are:\n",
    "\t1.2.1. age: age at enrollment\n",
    "    \n",
    "\t1.2.2. beck: beck depression score at admission\n",
    "    \n",
    "\t1.2.3. hercoc: heroin/cocaine to admission\n",
    "    \n",
    "\t1.2.4. ivhx: iv drug use history at admisision\n",
    "\t\n",
    "    1.2.5. ndrugtx: number of prior drug treatments\n",
    "\t\n",
    "    1.2.6. race: subject's race\n",
    "\t\n",
    "    1.2.7. treat: treatment randomization assignement\n",
    "\t\n",
    "    1.2.8. site: treatment site\n",
    "\t\n",
    "    1.2.9. los: length of treatment\n",
    "   \n",
    "    1.2.10. time: time to return to drug use\n",
    "\t\n",
    "    1.2.11. censor: returned to drug use\n",
    "\n",
    "#### 1.3. The scientific questions:\n",
    "\n",
    "    1.3.1 Is the long treatment more effective compare to the short treatment?\n",
    "\n",
    "    1.3.2. Is the treatment from the A site as effective as the B site?\n",
    "\n",
    "    1.3.3. Which drug has a higher chance that people will return to drug use?\n",
    "\n",
    "    1.3.4. Is there any reationship between the Beck Depression Score and the type of drug use? Such as higher Beck Depression Score is more likely to return to drug use.\n",
    "\n",
    "    1.3.5. Is higher Beck Depression Socre have a higher treatment time?\n",
    "\n",
    "    1.3.6. Does age affect the treatment?\n",
    "\n",
    "    1.3.7. Is race matter to the treatment?\n",
    "\n",
    "    1.3.8. Is the IV drug use will cause a long time of treatment and higher chance to return the drug use?\n"
   ]
  },
  {
   "cell_type": "markdown",
   "metadata": {},
   "source": [
    "## 2) A graph of your data (for most people a KM plot is a good idea.)"
   ]
  },
  {
   "cell_type": "code",
   "execution_count": 14,
   "metadata": {},
   "outputs": [
    {
     "name": "stdout",
     "output_type": "stream",
     "text": [
      "  [1]  188    26   207   144   551+   32   459    22   210   184     5   212 \n",
      " [13]   87   598+  260   210    84   196    19   441   449   659+   21    53 \n",
      " [25]  225   161    87    89    44    37   523+  226   259   289   103   624+\n",
      " [37]   68    57    65    79   559+   79    87    91   297    45   246    37 \n",
      " [49]   37   538+  541+  184   122     5   156   121   231   111    38    15 \n",
      " [61]   54   127   105    11   153    11    79    46   655+  166     6    95 \n",
      " [73]   83   151   220   227   343   119    43   545+   47    15   805+  321 \n",
      " [85]  167   107   491    35   123   597+  762+   13    31   228   553+  190 \n",
      " [97]  307    73   208   267     2   169   125   655+   70   398    59   122 \n",
      "[109]   29     8    96  1172+  734+   26    84   171   159     5     7   763+\n",
      "[121]  104   162    90   373   115    67    30     8   168    70   130   285 \n",
      "[133]  569+   87   310    87   544+  156   658+  273   168    83     4   708+\n",
      "[145]  137   259   560+  586+  190   720+  544+    3   494   541+   94   567+\n",
      "[157]   55    93   276    46     4   250   106   552+   90   203    67   559 \n",
      "[169]  106   374   630+   61   560+  547+  568+  490   222    56   282    35 \n",
      "[181]  603+  194   148   354   164    94    65   567+  634+  633+  127   477 \n",
      "[193]  436   226   362   552+  144   242   564+  299   167   380   120   248 \n",
      "[205]  218   115   224   132   148   593+   26   113    32   292    89    21 \n",
      "[217]  364   142   188     4    92    56   110   555+  220    23   285    90 \n",
      "[229]   59   156   194   142    57   279   118   567+  562+  239   578+  551+\n",
      "[241]  313   560+   54   198   164   325    62    45    53   253    51   540+\n",
      "[253]  317   437   136   115   175   442   122   181   180    51   541+  121 \n",
      "[265]  328     9   166   556+  104   102   533+  144   545+  537+  625+    6 \n",
      "[277]  307   290    20    74   100   555+  152   115    92   554+   92    69 \n",
      "[289]   25   501+   86    99    87   136   106   220    36   162   116   175 \n",
      "[301]  209   545+  245   176    14   113   159   354   174    23    26    98 \n",
      "[313]   23   555+  290   543+  274   536+    3     5   119   164   548+  175 \n",
      "[325]  539+  155    14   187    65   159    96   243    85     4   121   659 \n",
      "[337]  260   621+  199   565+  183   122   170    15   268    79    23   100 \n",
      "[349]   98    81   546+   58   569+  575+   17    91    57   499   123   143 \n",
      "[361]  130   471    74    85    95    36    19    38   539+  567+  186   546+\n",
      "[373]   24   540+  157    86   231   271    14    75   147   105   324   538+\n",
      "[385]  300    73    65   568    84    22    44     7   540+   21   537+  186 \n",
      "[397]   40   287   538+   30   516   268   568+  131   399    78    80   102 \n",
      "[409]    3   124    80    23   274    10   459    10   176   332   119   217 \n",
      "[421]  285   576+  106    81    47    76   348    20   306   192   216   189 \n",
      "[433]  403   193    28   150    99   510+  306   101   102   510+   69   503+\n",
      "[445]   52   547+  168   461   538+  349    44   548+   12     6   575+  589+\n",
      "[457]  408   232   143   582+  134     7   548+   81   170    29    78    81 \n",
      "[469]  369    69   115   361   245   233   227    97   547+  224   211   220 \n",
      "[481]   54   192   138   107   597+  226   434   106   180   557+  556+  619+\n",
      "[493]  546+   85   233   102   548+   99    36    32    78   502    71    59 \n",
      "[505]  115   533+   10   274   255   503+  256     9   550+  386   547+   45 \n",
      "[517]   58   124   540+  243   549+   12    51   562+   94   204   238   140 \n",
      "[529]  120   154   177   119    83   130    11   159   211    33    72   161 \n",
      "[541]  191   181   546+  540+   76     7    44   103    79   339    90   542+\n",
      "[553]  384   255   431   587+  198   551+  110   541+  242   537+   56    34 \n",
      "[565]  567+  549+  133   226   401    14   548+  224   540+  237   354   123 \n",
      "[577]  170   203   360   139   215   129   396   547+  547+   71   168   228 \n",
      "[589]  551+  654+   51   548+  231   280   184    86   560+   46   200   244 \n",
      "[601]  182   296    24   142   120    47   519   248    31   567+  353   458 \n",
      "[613]  554+  116    74    10   355   232    68    48    60    50    51   126 \n",
      "[625]   18    35   379   377 \n"
     ]
    },
    {
     "data": {
      "image/png": "[encoded data removed]",
      "text/plain": [
       "Plot with title \"Survival probability of not return to drug use\""
      ]
     },
     "metadata": {},
     "output_type": "display_data"
    }
   ],
   "source": [
    "### Load the necessary packages\n",
    "library(\"survival\")\n",
    "\n",
    "### Load the data\n",
    "current_address = getwd()\n",
    "uis_data = read.table(\"data/uis.dat\")\n",
    "\n",
    "### Name the column\n",
    "names(uis_data) = c(\"id\",\"age\",\"beck\",\"hercoc\",\"ivhx\",\"ndrugtx\",\"race\",\"treat\",\"site\",\"los\",\"time\",\"censor\") \n",
    "\n",
    "### Extract the needed column for plotting\n",
    "uis_time = uis_data$time\n",
    "uis_censor = uis_data$censor\n",
    "\n",
    "### Create a survival dataset\n",
    "uis_surv = Surv(uis_time, uis_censor)\n",
    "print(uis_surv)\n",
    "\n",
    "### Create a survival function\n",
    "uis_survfit = survfit(uis_surv ~ 1)\n",
    "\n",
    "### Plot the graph KM estimation graph\n",
    "plot(uis_survfit, xlab = \"Time (day)\", ylab = \"Survival probability (not return to drug use)\", main = \"Survival probability of not return to drug use\")"
   ]
  },
  {
   "cell_type": "markdown",
   "metadata": {},
   "source": [
    "## 3) What interesting statistical tools will you need to use in this analysis? In particular, what complications do you see in the data that will lead you to use procedures beyond the simple ones we have already discussed in class?"
   ]
  },
  {
   "cell_type": "markdown",
   "metadata": {},
   "source": [
    "#### 3.1. Tools:\n",
    "\n",
    "    3.1.1. Use hypothesis testing to test the effectivness of the treatment. \n",
    "         \n",
    "    3.1.2. Use KM estimation to see the successfulness of the treatment between those covariavtes, I would say that longer the days to return, the more successful.\n",
    "    \n",
    "#### 3.2. Complications:\n",
    "\n",
    "    3.2.1. One of the complication is that the beck depression socre may change significantly over time and it requires an extended cox model ."
   ]
  }
 ],
 "metadata": {
  "kernelspec": {
   "display_name": "R",
   "language": "R",
   "name": "ir"
  },
  "language_info": {
   "codemirror_mode": "r",
   "file_extension": ".r",
   "mimetype": "text/x-r-source",
   "name": "R",
   "pygments_lexer": "r",
   "version": "3.6.1"
  }
 },
 "nbformat": 4,
 "nbformat_minor": 4
}
